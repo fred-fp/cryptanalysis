{
 "cells": [
  {
   "cell_type": "code",
   "execution_count": 1,
   "metadata": {},
   "outputs": [],
   "source": [
    "%load_ext autoreload"
   ]
  },
  {
   "cell_type": "code",
   "execution_count": 2,
   "metadata": {},
   "outputs": [],
   "source": [
    "%autoreload 2"
   ]
  },
  {
   "cell_type": "code",
   "execution_count": 3,
   "metadata": {},
   "outputs": [],
   "source": [
    "import cryptanalysis as crypt"
   ]
  },
  {
   "cell_type": "markdown",
   "metadata": {},
   "source": [
    "## Brute force Ceasar Cipher example"
   ]
  },
  {
   "cell_type": "code",
   "execution_count": 4,
   "metadata": {},
   "outputs": [
    {
     "name": "stdout",
     "output_type": "stream",
     "text": [
      "A: QEB NRFZH YOLTK CLU GRJMP LSBO QEB IXWV ALD\n",
      "B: PDA MQEYG XNKSJ BKT FQILO KRAN PDA HWVU ZKC\n",
      "C: OCZ LPDXF WMJRI AJS EPHKN JQZM OCZ GVUT YJB\n",
      "D: NBY KOCWE VLIQH ZIR DOGJM IPYL NBY FUTS XIA\n",
      "E: MAX JNBVD UKHPG YHQ CNFIL HOXK MAX ETSR WHZ\n",
      "F: LZW IMAUC TJGOF XGP BMEHK GNWJ LZW DSRQ VGY\n",
      "G: KYV HLZTB SIFNE WFO ALDGJ FMVI KYV CRQP UFX\n",
      "H: JXU GKYSA RHEMD VEN ZKCFI ELUH JXU BQPO TEW\n",
      "I: IWT FJXRZ QGDLC UDM YJBEH DKTG IWT APON SDV\n",
      "J: HVS EIWQY PFCKB TCL XIADG CJSF HVS ZONM RCU\n",
      "K: GUR DHVPX OEBJA SBK WHZCF BIRE GUR YNML QBT\n",
      "L: FTQ CGUOW NDAIZ RAJ VGYBE AHQD FTQ XMLK PAS\n",
      "M: ESP BFTNV MCZHY QZI UFXAD ZGPC ESP WLKJ OZR\n",
      "N: DRO AESMU LBYGX PYH TEWZC YFOB DRO VKJI NYQ\n",
      "O: CQN ZDRLT KAXFW OXG SDVYB XENA CQN UJIH MXP\n",
      "P: BPM YCQKS JZWEV NWF RCUXA WDMZ BPM TIHG LWO\n",
      "Q: AOL XBPJR IYVDU MVE QBTWZ VCLY AOL SHGF KVN\n",
      "R: ZNK WAOIQ HXUCT LUD PASVY UBKX ZNK RGFE JUM\n",
      "S: YMJ VZNHP GWTBS KTC OZRUX TAJW YMJ QFED ITL\n",
      "T: XLI UYMGO FVSAR JSB NYQTW SZIV XLI PEDC HSK\n",
      "U: WKH TXLFN EURZQ IRA MXPSV RYHU WKH ODCB GRJ\n",
      "V: VJG SWKEM DTQYP HQZ LWORU QXGT VJG NCBA FQI\n",
      "W: UIF RVJDL CSPXO GPY KVNQT PWFS UIF MBAZ EPH\n",
      "X: THE QUICK BROWN FOX JUMPS OVER THE LAZY DOG\n",
      "Y: SGD PTHBJ AQNVM ENW ITLOR NUDQ SGD KZYX CNF\n",
      "Z: RFC OSGAI ZPMUL DMV HSKNQ MTCP RFC JYXW BME\n"
     ]
    }
   ],
   "source": [
    "message1 = 'QEB NRFZH YOLTK CLU GRJMP LSBO QEB IXWV ALD'\n",
    "print('\\n'.join(crypt.caesar(message1)))"
   ]
  },
  {
   "cell_type": "markdown",
   "metadata": {},
   "source": [
    "## Vigenere Cipher example with known key"
   ]
  },
  {
   "cell_type": "code",
   "execution_count": 5,
   "metadata": {},
   "outputs": [
    {
     "name": "stdout",
     "output_type": "stream",
     "text": [
      "THE SUN IS ECLIPSED BY THE MOON\n"
     ]
    }
   ],
   "source": [
    "message2 = 'WHV CMV LW HCCSHAHH EY KRW URSQ'\n",
    "key = 'DARKSIDE'\n",
    "print(crypt.vigenere(message2, key))"
   ]
  },
  {
   "cell_type": "markdown",
   "metadata": {},
   "source": [
    "## Solving monoalphabetic substitution with frequency analysis"
   ]
  },
  {
   "cell_type": "code",
   "execution_count": 6,
   "metadata": {},
   "outputs": [
    {
     "name": "stdout",
     "output_type": "stream",
     "text": [
      "LGGKeVHZXJeRPeVJJCEVOeCKeZMXeMGEXOeCeSCLDGEXJXSeLGRXeIVIXJLeCKeZMXeIGDQXZeGHeZMXeSJXLLeUMCDMeCeMVSeZVQXKeHJGRePGBJeOVWGJVZGJP.eVZeHCJLZeCeMVSeKXNOXDZXSeZMXR,eWBZeKGUeZMVZeCeUVLeVWOXeZGeSXDCIMXJeZMXeDMVJVDZXJLeCKeUMCDMeZMXPeUXJXeUJCZZXK,eCeWXNVKeZGeLZBSPeZMXReUCZMeSCOCNXKDX.\n"
     ]
    }
   ],
   "source": [
    "message3 = \"LGGK VHZXJ RP VJJCEVO CK ZMX MGEXO C SCLDGEXJXS LGRX IVIXJL CK ZMX IGDQXZ GH ZMX SJXLL UMCDM C MVS ZVQXK HJGR PGBJ OVWGJVZGJP. VZ HCJLZ C MVS KXNOXDZXS ZMXR, WBZ KGU ZMVZ C UVL VWOX ZG SXDCIMXJ ZMX DMVJVDZXJL CK UMCDM ZMXP UXJX UJCZZXK, C WXNVK ZG LZBSP ZMXR UCZM SCOCNXKDX.\"\n",
    "\n",
    "most_freq_letter = crypt.freq(message3, 1)[0][0]\n",
    "\n",
    "print(crypt.changeLetters(message3, most_freq_letter, 'e'))\n"
   ]
  }
 ],
 "metadata": {
  "interpreter": {
   "hash": "48508caca00869dc97af8ef7bef3b953f4507b8581a06885975e6ea05ccd9316"
  },
  "kernelspec": {
   "display_name": "Python 3.9.6 64-bit",
   "language": "python",
   "name": "python3"
  },
  "language_info": {
   "codemirror_mode": {
    "name": "ipython",
    "version": 3
   },
   "file_extension": ".py",
   "mimetype": "text/x-python",
   "name": "python",
   "nbconvert_exporter": "python",
   "pygments_lexer": "ipython3",
   "version": "3.9.6"
  },
  "orig_nbformat": 4
 },
 "nbformat": 4,
 "nbformat_minor": 2
}
