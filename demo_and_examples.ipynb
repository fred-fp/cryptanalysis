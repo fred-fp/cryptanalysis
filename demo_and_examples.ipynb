{
 "cells": [
  {
   "cell_type": "code",
   "execution_count": 26,
   "metadata": {},
   "outputs": [
    {
     "name": "stdout",
     "output_type": "stream",
     "text": [
      "The autoreload extension is already loaded. To reload it, use:\n",
      "  %reload_ext autoreload\n"
     ]
    }
   ],
   "source": [
    "%load_ext autoreload"
   ]
  },
  {
   "cell_type": "code",
   "execution_count": 27,
   "metadata": {},
   "outputs": [],
   "source": [
    "%autoreload 2"
   ]
  },
  {
   "cell_type": "code",
   "execution_count": 28,
   "metadata": {},
   "outputs": [],
   "source": [
    "import cryptanalysis as crypt"
   ]
  },
  {
   "cell_type": "markdown",
   "metadata": {},
   "source": [
    "## Brute force Ceasar Cipher example"
   ]
  },
  {
   "cell_type": "markdown",
   "metadata": {},
   "source": [
    "The Caesar’s cipher is one of the simplest and most widely known encryption techniques. Since each letter of the plaintext is shifted a fixed number down the alphabet, there are only 26 possibilities for the ciphertext. Thus, a simple brute force algorithm is capable of computing all the 26 possibilities in a matter of seconds. \n",
    "\n",
    "This is exactly what the function below does! It prints all 26 possible plaintexts for a given ciphertext. "
   ]
  },
  {
   "cell_type": "code",
   "execution_count": 29,
   "metadata": {},
   "outputs": [
    {
     "name": "stdout",
     "output_type": "stream",
     "text": [
      "A: QEB NRFZH YOLTK CLU GRJMP LSBO QEB IXWV ALD\n",
      "B: PDA MQEYG XNKSJ BKT FQILO KRAN PDA HWVU ZKC\n",
      "C: OCZ LPDXF WMJRI AJS EPHKN JQZM OCZ GVUT YJB\n",
      "D: NBY KOCWE VLIQH ZIR DOGJM IPYL NBY FUTS XIA\n",
      "E: MAX JNBVD UKHPG YHQ CNFIL HOXK MAX ETSR WHZ\n",
      "F: LZW IMAUC TJGOF XGP BMEHK GNWJ LZW DSRQ VGY\n",
      "G: KYV HLZTB SIFNE WFO ALDGJ FMVI KYV CRQP UFX\n",
      "H: JXU GKYSA RHEMD VEN ZKCFI ELUH JXU BQPO TEW\n",
      "I: IWT FJXRZ QGDLC UDM YJBEH DKTG IWT APON SDV\n",
      "J: HVS EIWQY PFCKB TCL XIADG CJSF HVS ZONM RCU\n",
      "K: GUR DHVPX OEBJA SBK WHZCF BIRE GUR YNML QBT\n",
      "L: FTQ CGUOW NDAIZ RAJ VGYBE AHQD FTQ XMLK PAS\n",
      "M: ESP BFTNV MCZHY QZI UFXAD ZGPC ESP WLKJ OZR\n",
      "N: DRO AESMU LBYGX PYH TEWZC YFOB DRO VKJI NYQ\n",
      "O: CQN ZDRLT KAXFW OXG SDVYB XENA CQN UJIH MXP\n",
      "P: BPM YCQKS JZWEV NWF RCUXA WDMZ BPM TIHG LWO\n",
      "Q: AOL XBPJR IYVDU MVE QBTWZ VCLY AOL SHGF KVN\n",
      "R: ZNK WAOIQ HXUCT LUD PASVY UBKX ZNK RGFE JUM\n",
      "S: YMJ VZNHP GWTBS KTC OZRUX TAJW YMJ QFED ITL\n",
      "T: XLI UYMGO FVSAR JSB NYQTW SZIV XLI PEDC HSK\n",
      "U: WKH TXLFN EURZQ IRA MXPSV RYHU WKH ODCB GRJ\n",
      "V: VJG SWKEM DTQYP HQZ LWORU QXGT VJG NCBA FQI\n",
      "W: UIF RVJDL CSPXO GPY KVNQT PWFS UIF MBAZ EPH\n",
      "X: THE QUICK BROWN FOX JUMPS OVER THE LAZY DOG\n",
      "Y: SGD PTHBJ AQNVM ENW ITLOR NUDQ SGD KZYX CNF\n",
      "Z: RFC OSGAI ZPMUL DMV HSKNQ MTCP RFC JYXW BME\n"
     ]
    }
   ],
   "source": [
    "message1 = 'QEB NRFZH YOLTK CLU GRJMP LSBO QEB IXWV ALD'\n",
    "print('\\n'.join(crypt.decyptCaesar(message1)))"
   ]
  },
  {
   "cell_type": "markdown",
   "metadata": {},
   "source": [
    "It can be easily seen by the exemple above that the plaintext was encrypted with a Caesar cipher using a shift of 23 letters (X is the 23th letter of the alphabet). \n",
    "\n",
    "\n",
    "Furthermore, the function can be easily altered to show all 26 possibilities of encryption for a given plaintext. As shown below."
   ]
  },
  {
   "cell_type": "code",
   "execution_count": 30,
   "metadata": {},
   "outputs": [
    {
     "name": "stdout",
     "output_type": "stream",
     "text": [
      "A: THE QUICK BROWN FOX JUMPS OVER THE LAZY DOG\n",
      "B: UIF RVJDL CSPXO GPY KVNQT PWFS UIF MBAZ EPH\n",
      "C: VJG SWKEM DTQYP HQZ LWORU QXGT VJG NCBA FQI\n",
      "D: WKH TXLFN EURZQ IRA MXPSV RYHU WKH ODCB GRJ\n",
      "E: XLI UYMGO FVSAR JSB NYQTW SZIV XLI PEDC HSK\n",
      "F: YMJ VZNHP GWTBS KTC OZRUX TAJW YMJ QFED ITL\n",
      "G: ZNK WAOIQ HXUCT LUD PASVY UBKX ZNK RGFE JUM\n",
      "H: AOL XBPJR IYVDU MVE QBTWZ VCLY AOL SHGF KVN\n",
      "I: BPM YCQKS JZWEV NWF RCUXA WDMZ BPM TIHG LWO\n",
      "J: CQN ZDRLT KAXFW OXG SDVYB XENA CQN UJIH MXP\n",
      "K: DRO AESMU LBYGX PYH TEWZC YFOB DRO VKJI NYQ\n",
      "L: ESP BFTNV MCZHY QZI UFXAD ZGPC ESP WLKJ OZR\n",
      "M: FTQ CGUOW NDAIZ RAJ VGYBE AHQD FTQ XMLK PAS\n",
      "N: GUR DHVPX OEBJA SBK WHZCF BIRE GUR YNML QBT\n",
      "O: HVS EIWQY PFCKB TCL XIADG CJSF HVS ZONM RCU\n",
      "P: IWT FJXRZ QGDLC UDM YJBEH DKTG IWT APON SDV\n",
      "Q: JXU GKYSA RHEMD VEN ZKCFI ELUH JXU BQPO TEW\n",
      "R: KYV HLZTB SIFNE WFO ALDGJ FMVI KYV CRQP UFX\n",
      "S: LZW IMAUC TJGOF XGP BMEHK GNWJ LZW DSRQ VGY\n",
      "T: MAX JNBVD UKHPG YHQ CNFIL HOXK MAX ETSR WHZ\n",
      "U: NBY KOCWE VLIQH ZIR DOGJM IPYL NBY FUTS XIA\n",
      "V: OCZ LPDXF WMJRI AJS EPHKN JQZM OCZ GVUT YJB\n",
      "W: PDA MQEYG XNKSJ BKT FQILO KRAN PDA HWVU ZKC\n",
      "X: QEB NRFZH YOLTK CLU GRJMP LSBO QEB IXWV ALD\n",
      "Y: RFC OSGAI ZPMUL DMV HSKNQ MTCP RFC JYXW BME\n",
      "Z: SGD PTHBJ AQNVM ENW ITLOR NUDQ SGD KZYX CNF\n"
     ]
    }
   ],
   "source": [
    "message2 = 'THE QUICK BROWN FOX JUMPS OVER THE LAZY DOG'\n",
    "print('\\n'.join(crypt.encryptCaesar(message2)))"
   ]
  },
  {
   "cell_type": "markdown",
   "metadata": {},
   "source": [
    "---"
   ]
  },
  {
   "cell_type": "markdown",
   "metadata": {},
   "source": [
    "## Vigenere Cipher example with known key"
   ]
  },
  {
   "cell_type": "code",
   "execution_count": 31,
   "metadata": {},
   "outputs": [
    {
     "name": "stdout",
     "output_type": "stream",
     "text": [
      "THE SUN IS ECLIPSED BY THE MOON\n"
     ]
    }
   ],
   "source": [
    "message3 = 'WHV CMV LW HCCSHAHH EY KRW URSQ'\n",
    "key = 'DARKSIDE'\n",
    "print(crypt.vigenere(message3, key))"
   ]
  },
  {
   "cell_type": "markdown",
   "metadata": {},
   "source": [
    "---"
   ]
  },
  {
   "cell_type": "markdown",
   "metadata": {},
   "source": [
    "## Solving monoalphabetic substitution with frequency analysis"
   ]
  },
  {
   "cell_type": "code",
   "execution_count": 32,
   "metadata": {},
   "outputs": [],
   "source": [
    "message3 = \"LGGK VHZXJ RP VJJCEVO CK ZMX MGEXO C SCLDGEXJXS LGRX IVIXJL CK ZMX IGDQXZ GH ZMX SJXLL UMCDM C MVS ZVQXK HJGR PGBJ OVWGJVZGJP. VZ HCJLZ C MVS KXNOXDZXS ZMXR, WBZ KGU ZMVZ C UVL VWOX ZG SXDCIMXJ ZMX DMVJVDZXJL CK UMCDM ZMXP UXJX UJCZZXK, C WXNVK ZG LZBSP ZMXR UCZM SCOCNXKDX.\""
   ]
  },
  {
   "cell_type": "markdown",
   "metadata": {},
   "source": [
    "The first thing to note when solving a monoalphabetic cipher is the frequency in which each letter appears. In this case:"
   ]
  },
  {
   "cell_type": "code",
   "execution_count": 33,
   "metadata": {},
   "outputs": [
    {
     "ename": "NameError",
     "evalue": "name 'message4' is not defined",
     "output_type": "error",
     "traceback": [
      "\u001b[1;31m---------------------------------------------------------------------------\u001b[0m",
      "\u001b[1;31mNameError\u001b[0m                                 Traceback (most recent call last)",
      "\u001b[1;32m~\\AppData\\Local\\Temp/ipykernel_3276/4028974979.py\u001b[0m in \u001b[0;36m<module>\u001b[1;34m\u001b[0m\n\u001b[1;32m----> 1\u001b[1;33m \u001b[0mprint\u001b[0m\u001b[1;33m(\u001b[0m\u001b[0mcrypt\u001b[0m\u001b[1;33m.\u001b[0m\u001b[0mfreq\u001b[0m\u001b[1;33m(\u001b[0m\u001b[0mmessage4\u001b[0m\u001b[1;33m,\u001b[0m \u001b[1;36m5\u001b[0m\u001b[1;33m)\u001b[0m\u001b[1;33m)\u001b[0m\u001b[1;33m\u001b[0m\u001b[1;33m\u001b[0m\u001b[0m\n\u001b[0m",
      "\u001b[1;31mNameError\u001b[0m: name 'message4' is not defined"
     ]
    }
   ],
   "source": [
    "print(crypt.freq(message4, 5))"
   ]
  },
  {
   "cell_type": "markdown",
   "metadata": {},
   "source": [
    "As X is the most common letter, it's safe to assume it represents the letter E (the most common letter in the english language), which is confirmed by the high frequency of appearance of the word 'ZMX', easily recognizable as 'THE'."
   ]
  },
  {
   "cell_type": "code",
   "execution_count": null,
   "metadata": {},
   "outputs": [],
   "source": [
    "plaintext_in_progress = crypt.changeLetters(message4, ['Z', 'M', 'X'], ['T', 'H', 'E'])"
   ]
  },
  {
   "cell_type": "markdown",
   "metadata": {},
   "source": [
    "Let's see how it looks as of now: (for clarity, already translated letters are represented in lower case.)"
   ]
  },
  {
   "cell_type": "code",
   "execution_count": null,
   "metadata": {},
   "outputs": [
    {
     "name": "stdout",
     "output_type": "stream",
     "text": [
      "LGGK VHteJ RP VJJCEVO CK the hGEeO C SCLDGEeJeS LGRe IVIeJL CK the IGDQet GH the SJeLL UhCDh C hVS tVQeK HJGR PGBJ OVWGJVtGJP. Vt HCJLt C hVS KeNOeDteS theR, WBt KGU thVt C UVL VWOe tG SeDCIheJ the DhVJVDteJL CK UhCDh theP UeJe UJCtteK, C WeNVK tG LtBSP theR UCth SCOCNeKDe.\n"
     ]
    }
   ],
   "source": [
    "print(plaintext_in_progress)"
   ]
  },
  {
   "cell_type": "markdown",
   "metadata": {},
   "source": [
    "From here on, we can use some language patterns to our advantage, instantly allowing us to recognize words such as 'thVt' (that) and 'tG' (to). The letter 'C' appears by itself many times, and because V = a (from the word 'thVt'), then obviously C = i."
   ]
  },
  {
   "cell_type": "code",
   "execution_count": null,
   "metadata": {},
   "outputs": [
    {
     "name": "stdout",
     "output_type": "stream",
     "text": [
      "LooK aHteJ RP aJJiEaO iK the hoEeO i SiLDoEeJeS LoRe IaIeJL iK the IoDQet oH the SJeLL UhiDh i haS taQeK HJoR PoBJ OaWoJatoJP. at HiJLt i haS KeNOeDteS theR, WBt KoU that i UaL aWOe to SeDiIheJ the DhaJaDteJL iK UhiDh theP UeJe UJitteK, i WeNaK to LtBSP theR Uith SiOiNeKDe.\n"
     ]
    }
   ],
   "source": [
    "plaintext_in_progress = crypt.changeLetters(plaintext_in_progress, ['V', 'G', 'C'], ['A', 'O', 'I'])\n",
    "print(plaintext_in_progress)"
   ]
  },
  {
   "cell_type": "markdown",
   "metadata": {},
   "source": [
    "We know that 'theP' and 'theR' represent 'them' or 'they'. Besides, the word 'RP' tells us that in fact P = y and R = m, because 'my' is a word, and 'ym' is not. \n",
    "Furthermore, U = w ('Uith' -> 'with') which results in L = s ('UaL' -> 'waL' -> 'was')"
   ]
  },
  {
   "cell_type": "code",
   "execution_count": null,
   "metadata": {},
   "outputs": [
    {
     "name": "stdout",
     "output_type": "stream",
     "text": [
      "sooK aHteJ my aJJiEaO iK the hoEeO i SisDoEeJeS some IaIeJs iK the IoDQet oH the SJess whiDh i haS taQeK HJom yoBJ OaWoJatoJy. at HiJst i haS KeNOeDteS them, WBt Kow that i was aWOe to SeDiIheJ the DhaJaDteJs iK whiDh they weJe wJitteK, i WeNaK to stBSy them with SiOiNeKDe.\n"
     ]
    }
   ],
   "source": [
    "plaintext_in_progress = crypt.changeLetters(plaintext_in_progress, ['P', 'R', 'U', 'L'], ['Y', 'M', 'W', 'S'])\n",
    "print(plaintext_in_progress)"
   ]
  },
  {
   "cell_type": "markdown",
   "metadata": {},
   "source": [
    "The rest of the text can be solved basically repeating the same steps, for words such as:\n",
    "- 'sooK' -> 'soon' (K = n)\n",
    "- 'whiDh' -> 'which' (D = c)\n",
    "- 'weJe' -> 'were' (J = r)\n",
    "- 'yoBJ' -> 'yoBr' -> 'your' (B = u)"
   ]
  },
  {
   "cell_type": "code",
   "execution_count": null,
   "metadata": {},
   "outputs": [
    {
     "name": "stdout",
     "output_type": "stream",
     "text": [
      "soon after my arrival in the hovel i discovered some papers in the pocket of the dress which i had taken from your laboratory. at first i had neglected them, but now that i was able to decipher the characters in which they were written, i began to study them with diligence.\n"
     ]
    }
   ],
   "source": [
    "ogLetters = ['K', 'D', 'J', 'B', 'O', 'W', 'P', 'U', 'H', 'R', 'L', 'S', 'N', 'I', 'E', 'Q']\n",
    "newLetters = ['N', 'C', 'R', 'U', 'L', 'B', 'Y', 'W', 'F', 'M', 'S', 'D', 'G', 'P', 'V', 'K']\n",
    "\n",
    "print(crypt.changeLetters(plaintext_in_progress, ogLetters, newLetters))\n"
   ]
  },
  {
   "cell_type": "markdown",
   "metadata": {},
   "source": [
    "---"
   ]
  }
 ],
 "metadata": {
  "interpreter": {
   "hash": "48508caca00869dc97af8ef7bef3b953f4507b8581a06885975e6ea05ccd9316"
  },
  "kernelspec": {
   "display_name": "Python 3.9.6 64-bit",
   "language": "python",
   "name": "python3"
  },
  "language_info": {
   "codemirror_mode": {
    "name": "ipython",
    "version": 3
   },
   "file_extension": ".py",
   "mimetype": "text/x-python",
   "name": "python",
   "nbconvert_exporter": "python",
   "pygments_lexer": "ipython3",
   "version": "3.9.4"
  },
  "orig_nbformat": 4
 },
 "nbformat": 4,
 "nbformat_minor": 2
}
